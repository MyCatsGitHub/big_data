{
 "cells": [
  {
   "cell_type": "code",
   "execution_count": 27,
   "id": "741df048",
   "metadata": {},
   "outputs": [],
   "source": [
    "from pyspark import SparkContext, SparkConf\n",
    "\n",
    "import pyspark.sql as sql\n",
    "from pyspark.sql import SparkSession\n",
    "from pyspark.sql.types import DoubleType\n",
    "from pyspark.sql.functions import udf, col, max, sum, countDistinct\n",
    "from math import sin, cos, sqrt, atan2, radians"
   ]
  },
  {
   "cell_type": "code",
   "execution_count": 28,
   "id": "8d545221",
   "metadata": {},
   "outputs": [],
   "source": [
    "spark = SparkSession.builder.appName(\"L1_Pakhomov\").getOrCreate()"
   ]
  },
  {
   "cell_type": "code",
   "execution_count": 29,
   "id": "5510fd74",
   "metadata": {},
   "outputs": [],
   "source": [
    "import os\n",
    "data_path = os.path.join(os.curdir, \"data\")\n",
    "trips_path = os.path.join(data_path, \"trips.csv\")\n",
    "stations_path = os.path.join(data_path, \"stations.csv\")"
   ]
  },
  {
   "cell_type": "code",
   "execution_count": 30,
   "id": "68673789",
   "metadata": {},
   "outputs": [
    {
     "name": "stdout",
     "output_type": "stream",
     "text": [
      "Trips\n",
      "root\n",
      " |-- id: integer (nullable = true)\n",
      " |-- duration: integer (nullable = true)\n",
      " |-- start_date: timestamp (nullable = true)\n",
      " |-- start_station_name: string (nullable = true)\n",
      " |-- start_station_id: integer (nullable = true)\n",
      " |-- end_date: timestamp (nullable = true)\n",
      " |-- end_station_name: string (nullable = true)\n",
      " |-- end_station_id: integer (nullable = true)\n",
      " |-- bike_id: integer (nullable = true)\n",
      " |-- subscription_type: string (nullable = true)\n",
      " |-- zip_code: string (nullable = true)\n",
      "\n",
      "Stations\n",
      "root\n",
      " |-- id: integer (nullable = true)\n",
      " |-- name: string (nullable = true)\n",
      " |-- lat: double (nullable = true)\n",
      " |-- long: double (nullable = true)\n",
      " |-- dock_count: integer (nullable = true)\n",
      " |-- city: string (nullable = true)\n",
      " |-- installation_date: string (nullable = true)\n",
      "\n"
     ]
    }
   ],
   "source": [
    "trip_data = spark.read.option(\"header\", True).option(\"inferSchema\", True).option(\"timestampFormat\", 'M/d/y H:m').csv(trips_path)\n",
    "\n",
    "print(\"Trips\")\n",
    "trip_data.printSchema()\n",
    "\n",
    "stations_data = spark.read.option(\"header\", True).option(\"inferSchema\", True).option(\"timestampFormat\", 'M/d/y H:m').csv(stations_path)\n",
    "\n",
    "print(\"Stations\")\n",
    "stations_data.printSchema()"
   ]
  },
  {
   "cell_type": "markdown",
   "id": "038e9301",
   "metadata": {},
   "source": [
    "### Найти велосипед с максимальным временем пробега."
   ]
  },
  {
   "cell_type": "code",
   "execution_count": 31,
   "id": "bf8b7f5b",
   "metadata": {},
   "outputs": [
    {
     "name": "stdout",
     "output_type": "stream",
     "text": [
      "Велосипед с id 535 имеет наибольший пробег равный 18611693\n"
     ]
    }
   ],
   "source": [
    "#Общее время пробега велосипеда\n",
    "max_trips_duration_per_bike = trip_data.groupBy(\"bike_id\").agg(sum(col(\"duration\")).alias(\"total_trips_duration\"))\n",
    "\n",
    "# велосипед с максимальным пробегом\n",
    "bike_with_max_trips_duration = max_trips_duration_per_bike.orderBy(col(\"total_trips_duration\").desc()).first()\n",
    "\n",
    "# id велосипеда\n",
    "bike_id_with_max_duration = bike_with_max_trips_duration[\"bike_id\"]\n",
    "\n",
    "# пробег велосипеда\n",
    "total_duration = bike_with_max_trips_duration[\"total_trips_duration\"]\n",
    "print(f'Велосипед с id {bike_id_with_max_duration} имеет наибольший пробег равный {total_duration}')"
   ]
  },
  {
   "cell_type": "markdown",
   "id": "824f1214",
   "metadata": {},
   "source": [
    "### Найти наибольшее геодезическое расстояние между станциями."
   ]
  },
  {
   "cell_type": "code",
   "execution_count": 32,
   "id": "5f82f790",
   "metadata": {},
   "outputs": [
    {
     "name": "stdout",
     "output_type": "stream",
     "text": [
      "Максимальное геодезическое расстояние между станицями равно 69.92087595421542 километров\n"
     ]
    }
   ],
   "source": [
    "#функция для расчёта геодизеческого расстояния\n",
    "def calc_geo_distance(lat1,lon1,lat2,lon2):\n",
    "    earth_r = 6371\n",
    "    lat1 = radians(lat1)\n",
    "    lon1 = radians(lon1)\n",
    "    lat2 = radians(lat2)\n",
    "    lon2 = radians(lon2)\n",
    "    \n",
    "    lat_diff = lat2 - lat1\n",
    "    lon_diff = lon2 - lon1\n",
    "    \n",
    "    tmp1 = sin(lat_diff/2)**2 + cos(lat1)*cos(lat2) * sin(lon_diff/2)**2\n",
    "    tmp2 = 2* atan2(sqrt(tmp1),sqrt(1-tmp1))\n",
    "    \n",
    "    return earth_r * tmp2\n",
    "calc_geo_spark_func = udf(calc_geo_distance,DoubleType())\n",
    "\n",
    "stations = stations_data.alias('station1').crossJoin(stations_data.alias('station2'))\n",
    "stations_distance = stations.withColumn(\n",
    "'geo_distance',\n",
    " calc_geo_spark_func(\n",
    " col('station1.lat'),\n",
    " col('station1.long'),\n",
    " col('station2.lat'),\n",
    " col('station2.long'))\n",
    ")\n",
    "max_distance = stations_distance.selectExpr(\"max(geo_distance) as max_distance\").collect()[0][\"max_distance\"]\n",
    "print(f\"Максимальное геодезическое расстояние между станицями равно {max_distance} километров\")"
   ]
  },
  {
   "cell_type": "markdown",
   "id": "b9cd0ecd",
   "metadata": {},
   "source": [
    "### Найти путь велосипеда с максимальным временем пробега через станции. "
   ]
  },
  {
   "cell_type": "code",
   "execution_count": 33,
   "id": "bf1ef3b5",
   "metadata": {},
   "outputs": [
    {
     "name": "stdout",
     "output_type": "stream",
     "text": [
      "Максимальное время пробега (17270400 секунд) из \"South Van Ness at Market\" в \"2nd at Folsom\"\n"
     ]
    }
   ],
   "source": [
    "# наиболее длительная поездка\n",
    "trip_with_max_duration = trip_data.select(\"start_station_name\", \"end_station_name\", \"duration\").orderBy(col(\"duration\").desc()).first()\n",
    "\n",
    "# начальный и конечный пункт, время поездки \n",
    "start_location = trip_with_max_duration[\"start_station_name\"]\n",
    "end_location = trip_with_max_duration[\"end_station_name\"]\n",
    "trip_time = trip_with_max_duration[\"duration\"]\n",
    "\n",
    "print(f\"Максимальное время пробега ({trip_time} секунд) из \\\"{start_location}\\\" в \\\"{end_location}\\\"\")"
   ]
  },
  {
   "cell_type": "markdown",
   "id": "060d9587",
   "metadata": {},
   "source": [
    "### Найти количество велосипедов в системе."
   ]
  },
  {
   "cell_type": "code",
   "execution_count": 34,
   "id": "c8ba1a6c",
   "metadata": {},
   "outputs": [
    {
     "name": "stdout",
     "output_type": "stream",
     "text": [
      "Общее количество велосипедов в системе 700\n"
     ]
    }
   ],
   "source": [
    "# количество уникальный id\n",
    "unique_bikes_count = trip_data.agg(countDistinct(\"bike_id\").alias(\"bike_count\")).collect()[0][\"bike_count\"]\n",
    "\n",
    "print(f\"Общее количество велосипедов в системе {unique_bikes_count}\")"
   ]
  },
  {
   "cell_type": "markdown",
   "id": "057b2e50",
   "metadata": {},
   "source": [
    "### Найти пользователей потративших на поездки более 3 часов.\n",
    " "
   ]
  },
  {
   "cell_type": "code",
   "execution_count": 35,
   "id": "09568525",
   "metadata": {},
   "outputs": [
    {
     "name": "stdout",
     "output_type": "stream",
     "text": [
      "+-------+----------+\n",
      "|bike_id|total_time|\n",
      "+-------+----------+\n",
      "|    471|   1718831|\n",
      "|    496|   1679568|\n",
      "|    148|    332138|\n",
      "|    463|   1722796|\n",
      "|    540|   1752835|\n",
      "|    392|   1789476|\n",
      "|    623|   2037219|\n",
      "|    243|    307458|\n",
      "|    516|   1896751|\n",
      "|     31|    407907|\n",
      "|    580|   1034382|\n",
      "|    137|   1529200|\n",
      "|    251|   1282980|\n",
      "|    451|   1695574|\n",
      "|     85|   1214769|\n",
      "|    458|   1647080|\n",
      "|     65|    216922|\n",
      "|    588|    266415|\n",
      "|    255|    396395|\n",
      "|     53|    226389|\n",
      "+-------+----------+\n",
      "only showing top 20 rows\n",
      "\n"
     ]
    }
   ],
   "source": [
    "# подсчёт общего времени на велосипеде, с группировкой по id\n",
    "users_with_total_trip_time = trip_data.groupBy(\"bike_id\").sum(\"duration\").withColumnRenamed(\"sum(duration)\", \"total_time\")\n",
    "users_with_total_trip_time.filter(\"total_time>10800\").show()"
   ]
  },
  {
   "cell_type": "code",
   "execution_count": null,
   "id": "25419f9f",
   "metadata": {},
   "outputs": [],
   "source": []
  }
 ],
 "metadata": {
  "kernelspec": {
   "display_name": "Python 3 (ipykernel)",
   "language": "python",
   "name": "python3"
  },
  "language_info": {
   "codemirror_mode": {
    "name": "ipython",
    "version": 3
   },
   "file_extension": ".py",
   "mimetype": "text/x-python",
   "name": "python",
   "nbconvert_exporter": "python",
   "pygments_lexer": "ipython3",
   "version": "3.9.10"
  }
 },
 "nbformat": 4,
 "nbformat_minor": 5
}
